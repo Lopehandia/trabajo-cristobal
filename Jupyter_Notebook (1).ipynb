{
 "cells": [
  {
   "cell_type": "markdown",
   "metadata": {},
   "source": [
    "<center>\n",
    "    <img src=\"https://cf-courses-data.s3.us.cloud-object-storage.appdomain.cloud/IBMDeveloperSkillsNetwork-DS0105EN-SkillsNetwork/labs/Module2/images/SN_web_lightmode.png\" width=\"300\" alt=\"cognitiveclass.ai logo\">\n",
    "</center>\n"
   ]
  },
  {
   "cell_type": "markdown",
   "metadata": {},
   "source": []
  },
  {
   "cell_type": "markdown",
   "metadata": {},
   "source": [
    "##PROYECTO CIENCIA DE DATOS\n",
    "  \n",
    "Este cuaderno contiene información sobre los lenguajes, bibliotecas y herramientas utilizadas en la ciencia de datos.  \n",
    "También incluye ejemplos de expresiones aritméticas y código para realizar cálculos básicos.  \n"
   ]
  },
  {
   "cell_type": "markdown",
   "metadata": {},
   "source": [
    "## Lenguajes de la Ciencia de Datos  \n",
    "-Algunos de los lenguajes más utilizados en la Ciencia de Datos son:  \n",
    "-Python  \n",
    "-R  \n",
    "-SQL  \n",
    "-Julia  \n",
    "-Scala  "
   ]
  },
  {
   "cell_type": "markdown",
   "metadata": {},
   "source": [
    "## Bibliotecas de Ciencia de Datos  \n",
    "Algunas bibliotecas populares en Ciencia de Datos incluyen:  \n",
    "- Pandas  \n",
    "- NumPy  \n",
    "- Matplotlib  \n",
    "- Scikit-learn  \n",
    "- TensorFlow  \n"
   ]
  },
  {
   "cell_type": "markdown",
   "metadata": {},
   "source": [
    "## Herramientas de Ciencia de Datos  \n",
    " -Jupyter Notebook: Entorno interactivo para programación.\n",
    " \n",
    " -RStudio: Entorno de desarrollo para R.\n",
    " \n",
    " -Apache Spark: Motor de análisis de datos a gran escala .\n",
    " \n",
    " -TensorFlow: Biblioteca para aprendizaje profundo.\n",
    " \n",
    " -Tableau: Herramienta de visualización de datos.\n"
   ]
  },
  {
   "cell_type": "markdown",
   "metadata": {},
   "source": [
    "## Ejemplos de expresiones aritméticas  \n",
    "Algunos ejemplos de operaciones aritméticas en Python:  \n",
    " (2 + 3) = 8\n",
    " (5 - 2) = 3  \n",
    " (4 * 3) = 12  \n",
    " (10 / 2) = 5\n"
   ]
  },
  {
   "cell_type": "code",
   "execution_count": 17,
   "metadata": {},
   "outputs": [
    {
     "name": "stdout",
     "output_type": "stream",
     "text": [
      "Resultado: 25\n"
     ]
    }
   ],
   "source": [
    "# Multiplicación y Suma\n",
    "a = 5 * 3\n",
    "b = a + 10\n",
    "print(\"Resultado:\", b)\n",
    "\n",
    "\n"
   ]
  },
  {
   "cell_type": "code",
   "execution_count": 18,
   "metadata": {},
   "outputs": [
    {
     "name": "stdout",
     "output_type": "stream",
     "text": [
      "150 minutos equivalen a 2.5 horas\n"
     ]
    }
   ],
   "source": [
    "# Convertir minutos en horas\n",
    "minutos = 150\n",
    "horas = minutos / 60\n",
    "print(f\"{minutos} minutos equivalen a {horas} horas\")\n",
    "\n"
   ]
  },
  {
   "cell_type": "code",
   "execution_count": 19,
   "metadata": {},
   "outputs": [
    {
     "name": "stdout",
     "output_type": "stream",
     "text": [
      "- Aprender Python\n",
      "- Manejar datos\n",
      "- Crear modelos de ML\n"
     ]
    }
   ],
   "source": [
    "\n",
    "# Lista de objetivos\n",
    "objetivos = [\"Aprender Python\", \"Manejar datos\", \"Crear modelos de ML\"]\n",
    "for objetivo in objetivos:\n",
    "    print(\"-\", objetivo)\n"
   ]
  },
  {
   "cell_type": "markdown",
   "metadata": {},
   "source": [
    "## NOMBRE  \n",
    "Nombre: Cristobal Peralta Lopehandia\n"
   ]
  },
  {
   "cell_type": "code",
   "execution_count": null,
   "metadata": {},
   "outputs": [],
   "source": []
  },
  {
   "cell_type": "code",
   "execution_count": null,
   "metadata": {},
   "outputs": [],
   "source": []
  },
  {
   "cell_type": "code",
   "execution_count": null,
   "metadata": {},
   "outputs": [],
   "source": []
  },
  {
   "cell_type": "code",
   "execution_count": null,
   "metadata": {},
   "outputs": [],
   "source": []
  }
 ],
 "metadata": {
  "kernelspec": {
   "display_name": "Python 3 (ipykernel)",
   "language": "python",
   "name": "python3"
  },
  "language_info": {
   "codemirror_mode": {
    "name": "ipython",
    "version": 3
   },
   "file_extension": ".py",
   "mimetype": "text/x-python",
   "name": "python",
   "nbconvert_exporter": "python",
   "pygments_lexer": "ipython3",
   "version": "3.12.8"
  }
 },
 "nbformat": 4,
 "nbformat_minor": 4
}
